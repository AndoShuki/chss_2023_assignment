{
 "cells": [
  {
   "attachments": {},
   "cell_type": "markdown",
   "metadata": {},
   "source": [
    "# 課題0524\n",
    "\n",
    "そのまま課題ファイルで編集しないでください。課題ファイルを複製してから課題を回答してください。"
   ]
  },
  {
   "attachments": {},
   "cell_type": "markdown",
   "metadata": {},
   "source": [
    "## 課題 1\n",
    "\n",
    "1から100までの偶数の和を計算してください。"
   ]
  },
  {
   "cell_type": "code",
   "execution_count": 11,
   "metadata": {},
   "outputs": [
    {
     "name": "stdout",
     "output_type": "stream",
     "text": [
      "2 2\n",
      "4 6\n",
      "6 12\n",
      "8 20\n",
      "10 30\n",
      "12 42\n",
      "14 56\n",
      "16 72\n",
      "18 90\n",
      "20 110\n",
      "22 132\n",
      "24 156\n",
      "26 182\n",
      "28 210\n",
      "30 240\n",
      "32 272\n",
      "34 306\n",
      "36 342\n",
      "38 380\n",
      "40 420\n",
      "42 462\n",
      "44 506\n",
      "46 552\n",
      "48 600\n",
      "50 650\n",
      "52 702\n",
      "54 756\n",
      "56 812\n",
      "58 870\n",
      "60 930\n",
      "62 992\n",
      "64 1056\n",
      "66 1122\n",
      "68 1190\n",
      "70 1260\n",
      "72 1332\n",
      "74 1406\n",
      "76 1482\n",
      "78 1560\n",
      "80 1640\n",
      "82 1722\n",
      "84 1806\n",
      "86 1892\n",
      "88 1980\n",
      "90 2070\n",
      "92 2162\n",
      "94 2256\n",
      "96 2352\n",
      "98 2450\n"
     ]
    }
   ],
   "source": [
    "# 課題1回答\n",
    "total=0\n",
    "for x in range(2,100,2):\n",
    "        total=total+x\n",
    "        print(x,total)"
   ]
  },
  {
   "attachments": {},
   "cell_type": "markdown",
   "metadata": {},
   "source": [
    "## 課題 2\n",
    "\n",
    "変数```guess_me```に$7$、変数```number```に$1$を代入し、```guess_me```と```number```を比較する```while```ループを書いてください。\n",
    "\n",
    "ループは、```number```が```guess_me```よりも小さければ```too low```を表示し、```number```と```guess_me```が等しければ```find it```を表示してループから抜けてください。"
   ]
  },
  {
   "cell_type": "code",
   "execution_count": 32,
   "metadata": {},
   "outputs": [
    {
     "name": "stdout",
     "output_type": "stream",
     "text": [
      "too low\n",
      "too low\n",
      "too low\n",
      "too low\n",
      "too low\n",
      "too low\n",
      "find it\n"
     ]
    }
   ],
   "source": [
    "## 課題 2\n",
    "guess_me=7\n",
    "number=1\n",
    "while guess_me>number:\n",
    "    print(\"too low\")\n",
    "    number=number+1\n",
    "    if guess_me==number:\n",
    "        print(\"find it\")\n",
    "    "
   ]
  },
  {
   "attachments": {},
   "cell_type": "markdown",
   "metadata": {},
   "source": [
    "## 課題 3"
   ]
  },
  {
   "attachments": {},
   "cell_type": "markdown",
   "metadata": {},
   "source": [
    "被除数が100である場合、リストの値を除数とする割り算の結果を順番に計算するプログラムを実装してください。\n",
    "- 計算結果を```print```で表示してください\n",
    "- 計算不可能の場合、ラーメッセージだけを表示してエラーが起きた回数をカウントし、計算を続けてください"
   ]
  },
  {
   "cell_type": "code",
   "execution_count": 3,
   "metadata": {},
   "outputs": [],
   "source": [
    "## 課題 3\n",
    "import math\n",
    "s = [1,0,10,-25,-2,50,200]\n",
    "error_count = 0 "
   ]
  },
  {
   "cell_type": "code",
   "execution_count": 105,
   "metadata": {},
   "outputs": [
    {
     "name": "stdout",
     "output_type": "stream",
     "text": [
      "100.0\n",
      "division by zero\n",
      "10.0\n",
      "-4.0\n",
      "-50.0\n",
      "2.0\n",
      "0.5\n",
      "1\n"
     ]
    }
   ],
   "source": [
    "import math\n",
    "s=[1,0,10,-25,-2,50,200]\n",
    "error_count=0\n",
    "for i in s:\n",
    "    try:\n",
    "        print(100/i)\n",
    "    except ZeroDivisionError:\n",
    "        print(\"division by zero\")\n",
    "        error_count=error_count+1\n",
    "print(error_count)"
   ]
  }
 ],
 "metadata": {
  "kernelspec": {
   "display_name": "base",
   "language": "python",
   "name": "python3"
  },
  "language_info": {
   "codemirror_mode": {
    "name": "ipython",
    "version": 3
   },
   "file_extension": ".py",
   "mimetype": "text/x-python",
   "name": "python",
   "nbconvert_exporter": "python",
   "pygments_lexer": "ipython3",
   "version": "3.10.9"
  },
  "orig_nbformat": 4
 },
 "nbformat": 4,
 "nbformat_minor": 2
}
