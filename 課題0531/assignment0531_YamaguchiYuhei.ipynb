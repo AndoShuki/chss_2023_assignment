{
 "cells": [
  {
   "attachments": {},
   "cell_type": "markdown",
   "metadata": {},
   "source": [
    "# 課題0531\n",
    "\n",
    "そのまま課題ファイルで編集しないでください。課題ファイルを複製してから課題を回答してください。"
   ]
  },
  {
   "attachments": {},
   "cell_type": "markdown",
   "metadata": {},
   "source": [
    "## 課題1\n",
    "\n",
    "被除数と除数を指定し、割り算の結果を計算する関数を作成してください。\n",
    "- 余りがない場合、商だけを返します。\n",
    "- 余りがある場合、商と余りを返します。\n",
    "- 計算不可能の場合、「計算できません」というエラーを表示してください"
   ]
  },
  {
   "cell_type": "code",
   "execution_count": 1,
   "metadata": {},
   "outputs": [],
   "source": [
    "def wari(x, y):\n",
    "    try:\n",
    "        shou = x // y\n",
    "        amari = x % y\n",
    "        if amari != 0:\n",
    "            return(\n",
    "                '商', shou, '余り', amari\n",
    "            )\n",
    "        elif amari == 0:\n",
    "            return(\n",
    "                '商', shou\n",
    "            )\n",
    "        else:\n",
    "            pass\n",
    "    except:\n",
    "        return(\n",
    "            '計算できません'\n",
    "        )"
   ]
  },
  {
   "cell_type": "code",
   "execution_count": 2,
   "metadata": {},
   "outputs": [
    {
     "data": {
      "text/plain": [
       "('商', 3)"
      ]
     },
     "execution_count": 2,
     "metadata": {},
     "output_type": "execute_result"
    }
   ],
   "source": [
    "# 確認\n",
    "wari(21, 7)"
   ]
  },
  {
   "attachments": {},
   "cell_type": "markdown",
   "metadata": {},
   "source": [
    "## 課題2\n",
    "\n",
    "ユークリッドの互除法の関数を作成してください。\n",
    "\n",
    "ユークリッドの互除法とは、2つの整数、aとbの最大公約数を求めるアルゴリズムです。例えば、2485と1162の最大公約数を求めたい場合\n",
    "\n",
    "$2485 \\div 1162 = 2 余り 161$ \n",
    "\n",
    "$1162 \\div 161 = 7 余り 35$ \n",
    "\n",
    "$161 \\div 35 = 4 余り 21$ \n",
    "\n",
    "$35 \\div 21 = 1 余り 14$\n",
    "\n",
    "$21 \\div 14 = 1 余り 7$\n",
    "\n",
    "$14 \\div 7 = 2 余り 0$\n",
    "\n",
    "割る数と余りを次回の割られる数と割る数にして、次々と計算し、最後に割り切れたら終わりで、最後の割る数が最大公約数です。\n",
    "\n",
    "\n",
    "- 除数が$0$によるエラーを制御してください。\n",
    "- 引数に渡す値の大小関係を考慮してください。除数が被除数より大きい場合は、自動的に値を入れ替えてください。\n"
   ]
  },
  {
   "cell_type": "code",
   "execution_count": 3,
   "metadata": {},
   "outputs": [],
   "source": [
    "def euclid(a, b):\n",
    "    # 大きい方の数値と小さい方の数値を判定．\n",
    "    # 大きい方をl，小さい方をsとする．\n",
    "    if a >= b:\n",
    "        l = a; s = b\n",
    "    else:\n",
    "        l = b; s = a\n",
    "    # ここから実際にユークリッドの互除法\n",
    "    try:\n",
    "        e = 0\n",
    "        while l % s != 0:\n",
    "            e = l % s\n",
    "            l = s\n",
    "            s = e\n",
    "        return(e)\n",
    "    except:\n",
    "        return('計算できません')"
   ]
  },
  {
   "cell_type": "code",
   "execution_count": 4,
   "metadata": {},
   "outputs": [
    {
     "data": {
      "text/plain": [
       "7"
      ]
     },
     "execution_count": 4,
     "metadata": {},
     "output_type": "execute_result"
    }
   ],
   "source": [
    "#テスト用データ\n",
    "a = 2485\n",
    "b = 1162\n",
    "\n",
    "euclid(a, b)"
   ]
  },
  {
   "cell_type": "code",
   "execution_count": 5,
   "metadata": {},
   "outputs": [
    {
     "data": {
      "text/plain": [
       "'計算できません'"
      ]
     },
     "execution_count": 5,
     "metadata": {},
     "output_type": "execute_result"
    }
   ],
   "source": [
    "#テスト用データ\n",
    "a = 2485\n",
    "b = 0\n",
    "\n",
    "euclid(a, b)"
   ]
  },
  {
   "cell_type": "code",
   "execution_count": 6,
   "metadata": {},
   "outputs": [
    {
     "data": {
      "text/plain": [
       "7"
      ]
     },
     "execution_count": 6,
     "metadata": {},
     "output_type": "execute_result"
    }
   ],
   "source": [
    "#テスト用データ\n",
    "a = 1162\n",
    "b = 2485\n",
    "\n",
    "euclid(a, b)"
   ]
  },
  {
   "attachments": {},
   "cell_type": "markdown",
   "metadata": {},
   "source": [
    "## 課題3\n",
    "\n",
    "入れ子になったリストを平らにしててくだい。\n",
    "\n",
    "できるだけ授業中で説明した多重な```if-else```以外の方法で解答してください。"
   ]
  },
  {
   "cell_type": "code",
   "execution_count": 7,
   "metadata": {},
   "outputs": [],
   "source": [
    "list1=[1, [2, 3], [4, [5]]]"
   ]
  },
  {
   "cell_type": "code",
   "execution_count": 8,
   "metadata": {},
   "outputs": [
    {
     "data": {
      "text/plain": [
       "[1, 2, 3, 4, 5]"
      ]
     },
     "execution_count": 8,
     "metadata": {},
     "output_type": "execute_result"
    }
   ],
   "source": [
    "# ちょっとズルい方法が思いつきました．\n",
    "# まず全部をstrにしてから，数字に変換できるものだけのリストを返すというやり方です．\n",
    "\n",
    "def num_flat(l):\n",
    "    a = str(l)\n",
    "    sub_list = []\n",
    "    for _ in range(len(a)):\n",
    "        sub_list.append(a[_])\n",
    "    new_list = []\n",
    "    for _ in range(len(sub_list)):\n",
    "        try:\n",
    "            new_list.append(\n",
    "                int(sub_list[_])\n",
    "            )\n",
    "        except:\n",
    "            pass\n",
    "    return(new_list)\n",
    "\n",
    "# 確認\n",
    "new_list = num_flat(list1)\n",
    "new_list"
   ]
  }
 ],
 "metadata": {
  "kernelspec": {
   "display_name": "Python 3",
   "language": "python",
   "name": "python3"
  },
  "language_info": {
   "codemirror_mode": {
    "name": "ipython",
    "version": 3
   },
   "file_extension": ".py",
   "mimetype": "text/x-python",
   "name": "python",
   "nbconvert_exporter": "python",
   "pygments_lexer": "ipython3",
   "version": "3.11.0"
  },
  "orig_nbformat": 4
 },
 "nbformat": 4,
 "nbformat_minor": 2
}
