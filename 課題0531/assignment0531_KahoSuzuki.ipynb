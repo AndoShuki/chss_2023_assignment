{
 "cells": [
  {
   "cell_type": "markdown",
   "metadata": {},
   "source": [
    "# 課題0531\n",
    "\n",
    "そのまま課題ファイルで編集しないでください。課題ファイルを複製してから課題を回答してください。"
   ]
  },
  {
   "cell_type": "markdown",
   "metadata": {},
   "source": [
    "## 課題1\n",
    "\n",
    "被除数と除数を指定し、割り算の結果を計算する関数を作成してください。\n",
    "- 余りがない場合、商だけを返します。\n",
    "- 余りがある場合、商と余りを返します。\n",
    "- 計算不可能の場合、「計算できません」というエラーを表示してください"
   ]
  },
  {
   "cell_type": "code",
   "execution_count": 1,
   "metadata": {},
   "outputs": [],
   "source": [
    "def division(x,y):\n",
    "    try:\n",
    "        if x%y==0:\n",
    "            result=\"商\"+\" \"+str(x//y)+\" \"+\"余りなし\"\n",
    "        else:\n",
    "            result=\"商\"+\" \"+str(x//y)+\" \"+\"余り\"+\" \"+str(x%y)\n",
    "    except:\n",
    "        result=\"計算できません\"\n",
    "    return result        "
   ]
  },
  {
   "cell_type": "code",
   "execution_count": 2,
   "metadata": {},
   "outputs": [
    {
     "name": "stdout",
     "output_type": "stream",
     "text": [
      "商 7 余り 10\n"
     ]
    }
   ],
   "source": [
    "result=division(150,20)\n",
    "print(result)"
   ]
  },
  {
   "cell_type": "markdown",
   "metadata": {},
   "source": [
    "## 課題2\n",
    "\n",
    "ユークリッドの互除法の関数を作成してください。\n",
    "\n",
    "ユークリッドの互除法とは、2つの整数、aとbの最大公約数を求めるアルゴリズムです。例えば、2485と1162の最大公約数を求めたい場合\n",
    "\n",
    "$2485 \\div 1162 = 2 余り 161$ \n",
    "\n",
    "$1162 \\div 161 = 7 余り 35$ \n",
    "\n",
    "$161 \\div 35 = 4 余り 21$ \n",
    "\n",
    "$35 \\div 21 = 1 余り 14$\n",
    "\n",
    "$21 \\div 14 = 1 余り 7$\n",
    "\n",
    "$14 \\div 7 = 2 余り 0$\n",
    "\n",
    "割る数と余りを次回の割られる数と割る数にして、次々と計算し、最後に割り切れたら終わりで、最後の割る数が最大公約数です。\n",
    "\n",
    "\n",
    "- 除数が$0$によるエラーを制御してください。\n",
    "- 引数に渡す値の大小関係を考慮してください。除数が被除数より大きい場合は、自動的に値を入れ替えてください。\n"
   ]
  },
  {
   "cell_type": "code",
   "execution_count": 3,
   "metadata": {},
   "outputs": [],
   "source": [
    "def euclid(x,y):\n",
    "    try:\n",
    "        if x>=y:\n",
    "            while x%y!=0:\n",
    "                z=x%y\n",
    "                x=y\n",
    "                y=z\n",
    "                result=y\n",
    "        else:\n",
    "            while y%x!=0:\n",
    "                z=y%x\n",
    "                y=x\n",
    "                x=z\n",
    "                result=x\n",
    "    except:\n",
    "        result=\"計算できません\"\n",
    "    return result"
   ]
  },
  {
   "cell_type": "code",
   "execution_count": 4,
   "metadata": {},
   "outputs": [],
   "source": [
    "#テスト用データ\n",
    "a = 2485\n",
    "b = 1162"
   ]
  },
  {
   "cell_type": "code",
   "execution_count": 5,
   "metadata": {},
   "outputs": [
    {
     "name": "stdout",
     "output_type": "stream",
     "text": [
      "7\n"
     ]
    }
   ],
   "source": [
    "result=euclid(a,b)\n",
    "print(result)"
   ]
  },
  {
   "cell_type": "code",
   "execution_count": 6,
   "metadata": {},
   "outputs": [],
   "source": [
    "#テスト用データ\n",
    "a = 2485\n",
    "b = 0"
   ]
  },
  {
   "cell_type": "code",
   "execution_count": 7,
   "metadata": {},
   "outputs": [
    {
     "name": "stdout",
     "output_type": "stream",
     "text": [
      "計算できません\n"
     ]
    }
   ],
   "source": [
    "result=euclid(a,b)\n",
    "print(result)"
   ]
  },
  {
   "cell_type": "code",
   "execution_count": 8,
   "metadata": {},
   "outputs": [],
   "source": [
    "#テスト用データ\n",
    "a = 1162\n",
    "b = 2485"
   ]
  },
  {
   "cell_type": "code",
   "execution_count": 9,
   "metadata": {},
   "outputs": [
    {
     "name": "stdout",
     "output_type": "stream",
     "text": [
      "7\n"
     ]
    }
   ],
   "source": [
    "result=euclid(a,b)\n",
    "print(result)"
   ]
  },
  {
   "cell_type": "markdown",
   "metadata": {},
   "source": [
    "## 課題3\n",
    "\n",
    "入れ子になったリストを平らにしててくだい。\n",
    "\n",
    "できるだけ授業中で説明した多重な```if-else```以外の方法で解答してください。"
   ]
  },
  {
   "cell_type": "code",
   "execution_count": 10,
   "metadata": {},
   "outputs": [],
   "source": [
    "list1=[1, [2, 3], [4, [5]]]\n",
    "list2=[]\n",
    "list3=[]"
   ]
  },
  {
   "cell_type": "code",
   "execution_count": 11,
   "metadata": {},
   "outputs": [],
   "source": [
    "for i in list1:\n",
    "    try:\n",
    "        list2.extend(i)    \n",
    "    except:\n",
    "        list2.append(i)\n",
    "for i in list2:\n",
    "    try:\n",
    "        list3.extend(i)    \n",
    "    except:\n",
    "        list3.append(i)"
   ]
  },
  {
   "cell_type": "code",
   "execution_count": 12,
   "metadata": {},
   "outputs": [
    {
     "data": {
      "text/plain": [
       "[1, 2, 3, 4, 5]"
      ]
     },
     "execution_count": 12,
     "metadata": {},
     "output_type": "execute_result"
    }
   ],
   "source": [
    "list3"
   ]
  }
 ],
 "metadata": {
  "kernelspec": {
   "display_name": "Python 3 (ipykernel)",
   "language": "python",
   "name": "python3"
  },
  "language_info": {
   "codemirror_mode": {
    "name": "ipython",
    "version": 3
   },
   "file_extension": ".py",
   "mimetype": "text/x-python",
   "name": "python",
   "nbconvert_exporter": "python",
   "pygments_lexer": "ipython3",
   "version": "3.10.10"
  }
 },
 "nbformat": 4,
 "nbformat_minor": 2
}
