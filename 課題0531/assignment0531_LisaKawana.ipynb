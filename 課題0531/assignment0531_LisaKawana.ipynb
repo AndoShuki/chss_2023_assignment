{
  "cells": [
    {
      "cell_type": "markdown",
      "metadata": {
        "id": "VovqLCNaBEFT"
      },
      "source": [
        "# 課題0531\n",
        "\n",
        "そのまま課題ファイルで編集しないでください。課題ファイルを複製してから課題を回答してください。"
      ]
    },
    {
      "cell_type": "markdown",
      "metadata": {
        "id": "8zxvXJepBEFd"
      },
      "source": [
        "## 課題1\n",
        "\n",
        "被除数と除数を指定し、割り算の結果を計算する関数を作成してください。\n",
        "- 余りがない場合、商だけを返します。\n",
        "- 余りがある場合、商と余りを返します。\n",
        "- 計算不可能の場合、「計算できません」というエラーを表示してください"
      ]
    },
    {
      "cell_type": "code",
      "source": [
        "import math\n",
        "\n",
        "def Division(divisor,dividend):\n",
        "  try:\n",
        "    value=divisor/dividend\n",
        "    remainder=divisor%dividend\n",
        "    if remainder==0:\n",
        "      print(\"value =\",value)\n",
        "    else:\n",
        "      print(\"value =\",value,\"remainder =\",remainder)\n",
        "  except:\n",
        "    print(\"計算できません\")\n",
        "  \n",
        "Division(6,3)\n",
        "Division(1,3)\n",
        "Division(3,0)"
      ],
      "metadata": {
        "colab": {
          "base_uri": "https://localhost:8080/"
        },
        "id": "UGfCI5f7BIAs",
        "outputId": "51d73971-26bb-4b47-ffb4-55e53e3209fb"
      },
      "execution_count": null,
      "outputs": [
        {
          "output_type": "stream",
          "name": "stdout",
          "text": [
            "value = 2.0\n",
            "value = 0.3333333333333333 remainder = 1\n",
            "計算できません\n"
          ]
        }
      ]
    },
    {
      "cell_type": "markdown",
      "metadata": {
        "id": "UBrc5EndBEFf"
      },
      "source": [
        "## 課題2\n",
        "\n",
        "ユークリッドの互除法の関数を作成してください。\n",
        "\n",
        "ユークリッドの互除法とは、2つの整数、aとbの最大公約数を求めるアルゴリズムです。例えば、2485と1162の最大公約数を求めたい場合\n",
        "\n",
        "$2485 \\div 1162 = 2 余り 161$ \n",
        "\n",
        "$1162 \\div 161 = 7 余り 35$ \n",
        "\n",
        "$161 \\div 35 = 4 余り 21$ \n",
        "\n",
        "$35 \\div 21 = 1 余り 14$\n",
        "\n",
        "$21 \\div 14 = 1 余り 7$\n",
        "\n",
        "$14 \\div 7 = 2 余り 0$\n",
        "\n",
        "割る数と余りを次回の割られる数と割る数にして、次々と計算し、最後に割り切れたら終わりで、最後の割る数が最大公約数です。\n",
        "\n",
        "\n",
        "- 除数が$0$によるエラーを制御してください。\n",
        "- 引数に渡す値の大小関係を考慮してください。除数が被除数より大きい場合は、自動的に値を入れ替えてください。\n"
      ]
    },
    {
      "cell_type": "code",
      "source": [
        "import math\n",
        "\n",
        "def euclid(a,b):\n",
        "  if b>a:\n",
        "    c=b\n",
        "    b=a\n",
        "    a=c\n",
        "  try:\n",
        "    value=a/b\n",
        "    remainder=a%b\n",
        "    if remainder==0:\n",
        "      print(\"gcd=\",b)\n",
        "    else:\n",
        "      euclid(b,remainder)\n",
        "  except:\n",
        "    print(\"計算できません\")"
      ],
      "metadata": {
        "id": "48IATLYSDq5x"
      },
      "execution_count": null,
      "outputs": []
    },
    {
      "cell_type": "code",
      "execution_count": null,
      "metadata": {
        "colab": {
          "base_uri": "https://localhost:8080/"
        },
        "id": "SjtD5V6HBEFg",
        "outputId": "83ca9b4d-0d68-4865-cfee-2d9a390ca01b"
      },
      "outputs": [
        {
          "output_type": "stream",
          "name": "stdout",
          "text": [
            "gcd 7\n"
          ]
        }
      ],
      "source": [
        "#テスト用データ\n",
        "a = 2485\n",
        "b = 1162\n",
        "\n",
        "euclid(a,b)"
      ]
    },
    {
      "cell_type": "code",
      "execution_count": null,
      "metadata": {
        "colab": {
          "base_uri": "https://localhost:8080/"
        },
        "id": "EVmby6OrBEFi",
        "outputId": "1cd7fe76-4352-405f-ce3c-88f3ecac4c30"
      },
      "outputs": [
        {
          "output_type": "stream",
          "name": "stdout",
          "text": [
            "計算できません\n"
          ]
        }
      ],
      "source": [
        "#テスト用データ\n",
        "a = 2485\n",
        "b = 0\n",
        "\n",
        "euclid(a,b)"
      ]
    },
    {
      "cell_type": "code",
      "execution_count": null,
      "metadata": {
        "colab": {
          "base_uri": "https://localhost:8080/"
        },
        "id": "RuqrJQRXBEFj",
        "outputId": "586cd8b9-5240-4766-c2f0-7cb5788d761e"
      },
      "outputs": [
        {
          "output_type": "stream",
          "name": "stdout",
          "text": [
            "gcd 7\n"
          ]
        }
      ],
      "source": [
        "#テスト用データ\n",
        "a = 1162\n",
        "b = 2485\n",
        "\n",
        "euclid(a,b)"
      ]
    },
    {
      "cell_type": "markdown",
      "metadata": {
        "id": "Oi9t1c5EBEFl"
      },
      "source": [
        "## 課題3\n",
        "\n",
        "入れ子になったリストを平らにしててくだい。\n",
        "\n",
        "できるだけ授業中で説明した多重な```if-else```以外の方法で解答してください。"
      ]
    },
    {
      "cell_type": "code",
      "execution_count": null,
      "metadata": {
        "colab": {
          "base_uri": "https://localhost:8080/"
        },
        "id": "3bX3ZEkNBEFm",
        "outputId": "c77ffdb3-2575-4605-9a31-2276615a0cb6"
      },
      "outputs": [
        {
          "output_type": "stream",
          "name": "stdout",
          "text": [
            "[1, 2, 3, 4, 5]\n"
          ]
        }
      ],
      "source": [
        "List1=[1, [2, 3], [4, [5]]]\n",
        "NList=[]\n",
        "\n",
        "def unpacking(List,NList):\n",
        "  for p in List:\n",
        "    if type(p) is list:\n",
        "      unpacking(p,NList)\n",
        "    else:\n",
        "      NList.append(p)\n",
        "  return NList\n",
        "\n",
        "print(unpacking(List1,NList=[]))"
      ]
    }
  ],
  "metadata": {
    "kernelspec": {
      "display_name": "Python 3",
      "language": "python",
      "name": "python3"
    },
    "language_info": {
      "codemirror_mode": {
        "name": "ipython",
        "version": 3
      },
      "file_extension": ".py",
      "mimetype": "text/x-python",
      "name": "python",
      "nbconvert_exporter": "python",
      "pygments_lexer": "ipython3",
      "version": "3.9.6"
    },
    "orig_nbformat": 4,
    "colab": {
      "provenance": []
    }
  },
  "nbformat": 4,
  "nbformat_minor": 0
}