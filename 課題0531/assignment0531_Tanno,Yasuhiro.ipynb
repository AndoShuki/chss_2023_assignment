{
 "cells": [
  {
   "attachments": {},
   "cell_type": "markdown",
   "metadata": {},
   "source": [
    "# 課題0531\n",
    "\n",
    "そのまま課題ファイルで編集しないでください。課題ファイルを複製してから課題を回答してください。"
   ]
  },
  {
   "attachments": {},
   "cell_type": "markdown",
   "metadata": {},
   "source": [
    "## 課題1\n",
    "\n",
    "被除数と除数を指定し、割り算の結果を計算する関数を作成してください。\n",
    "- 余りがない場合、商だけを返します。\n",
    "- 余りがある場合、商と余りを返します。\n",
    "- 計算不可能の場合、「計算できません」というエラーを表示してください"
   ]
  },
  {
   "cell_type": "code",
   "execution_count": 33,
   "metadata": {},
   "outputs": [
    {
     "name": "stdout",
     "output_type": "stream",
     "text": [
      "動作テスト\n",
      "被除数=103、除数=0\n",
      "計算できません\n"
     ]
    }
   ],
   "source": [
    "#回答\n",
    "\n",
    "def div(x,y): #関数divを次に定義する。これが求める関数である。\n",
    "    try: #次の処理ができる場合、次の処理を行う。\n",
    "        x//y #被除数xを除数yで割った商を返す。\n",
    "        if x%y==0: #もしx/yに余りがなければ、\n",
    "            return x//y #x//yを返す。\n",
    "        else: #もしそうでなければ、すなわちx/yに余りがあれば、\n",
    "            return (x//y,x%y) #(x//y,x%y)を返す。\n",
    "    except: #もし上の処理が行えない場合、\n",
    "        return '計算できません' #計算できませんと返す。\n",
    "\n",
    "#回答は以上。\n",
    "#以下は動作テスト。\n",
    "\n",
    "###\n",
    "\n",
    "x=103 #被除数を指定する。\n",
    "y=0 #除数を指定する。\n",
    "\n",
    "###\n",
    "\n",
    "print('動作テスト') #以下に動作テストを出力する。\n",
    "print('被除数='+str(x)+'、除数='+str(y)) #被除数と除数の値をprintする。\n",
    "\n",
    "if type(div(x,y))==tuple: #もしdiv(x,y)が商と余りをもっていれば、\n",
    "    print('商'+str(div(x,y)[0])+'、余り'+str(div(x,y)[1])) #商x//y、余りx%yを出力する。\n",
    "elif div(x,y)=='計算できません': #もしdiv(x,y)が計算できませんと返していれば、\n",
    "    print(div(x,y)) #そのままdiv(x,y)の値を返す。\n",
    "else: #もしいずれでもない、すなわちdiv(x,y)が商のみをもっていれば、\n",
    "    print('商'+str(div(x,y))) #商x//yを出力する。"
   ]
  },
  {
   "attachments": {},
   "cell_type": "markdown",
   "metadata": {},
   "source": [
    "## 課題2\n",
    "\n",
    "ユークリッドの互除法の関数を作成してください。\n",
    "\n",
    "ユークリッドの互除法とは、2つの整数、aとbの最大公約数を求めるアルゴリズムです。例えば、2485と1162の最大公約数を求めたい場合\n",
    "\n",
    "$2485 \\div 1162 = 2 余り 161$ \n",
    "\n",
    "$1162 \\div 161 = 7 余り 35$ \n",
    "\n",
    "$161 \\div 35 = 4 余り 21$ \n",
    "\n",
    "$35 \\div 21 = 1 余り 14$\n",
    "\n",
    "$21 \\div 14 = 1 余り 7$\n",
    "\n",
    "$14 \\div 7 = 2 余り 0$\n",
    "\n",
    "割る数と余りを次回の割られる数と割る数にして、次々と計算し、最後に割り切れたら終わりで、最後の割る数が最大公約数です。\n",
    "\n",
    "\n",
    "- 除数が$0$によるエラーを制御してください。\n",
    "- 引数に渡す値の大小関係を考慮してください。除数が被除数より大きい場合は、自動的に値を入れ替えてください。\n"
   ]
  },
  {
   "cell_type": "code",
   "execution_count": 5,
   "metadata": {},
   "outputs": [
    {
     "name": "stdout",
     "output_type": "stream",
     "text": [
      "7\n",
      "0除算は実行できません\n",
      "7\n"
     ]
    }
   ],
   "source": [
    "#回答\n",
    "\n",
    "def euqlid(x,y): #関数euqlidを次に定義する。\n",
    "    if x>=y: #もし引数１が引数２以上であれば、\n",
    "        pass #そのまま処理を続行する。\n",
    "    else: #もし引数１が引数２未満であれば、\n",
    "        x,y=y,x #引数の値を入れ替える。\n",
    "    try: #以下の処理をtryする。\n",
    "        r = x%y #rをx/yのあまりとする。\n",
    "        while r!=0: #rが0ではない、つまりxがyで割り切れない間、次の処理を実行する。\n",
    "            x,y=y,r #x,yの値を、y,rに入れ替える。\n",
    "            r=x%y #再びx/yの余りを計算する。\n",
    "        return y #r=0、すなわちxがyで割り切れたら、yを返す。\n",
    "    except: #0除算が発生した場合、\n",
    "        return '0除算は実行できません' #0除算は実行できませんと返す。\n",
    "\n",
    "#test\n",
    "\n",
    "print(euqlid(2485,1162))\n",
    "print(euqlid(2485,0))\n",
    "print(euqlid(1162,2485))"
   ]
  },
  {
   "cell_type": "code",
   "execution_count": null,
   "metadata": {},
   "outputs": [],
   "source": [
    "#テスト用データ\n",
    "a = 2485\n",
    "b = 1162"
   ]
  },
  {
   "cell_type": "code",
   "execution_count": 4,
   "metadata": {},
   "outputs": [],
   "source": [
    "#テスト用データ\n",
    "a = 2485\n",
    "b = 0"
   ]
  },
  {
   "cell_type": "code",
   "execution_count": 5,
   "metadata": {},
   "outputs": [],
   "source": [
    "#テスト用データ\n",
    "a = 1162\n",
    "b = 2485"
   ]
  },
  {
   "attachments": {},
   "cell_type": "markdown",
   "metadata": {},
   "source": [
    "## 課題3\n",
    "\n",
    "入れ子になったリストを平らにしててくだい。\n",
    "\n",
    "できるだけ授業中で説明した多重な```if-else```以外の方法で解答してください。"
   ]
  },
  {
   "cell_type": "code",
   "execution_count": 85,
   "metadata": {},
   "outputs": [
    {
     "name": "stdout",
     "output_type": "stream",
     "text": [
      "[1, 2, 3, 4, 5]\n",
      "[1, 2, 3, 4, 5, 6, 7, 8, 9]\n"
     ]
    }
   ],
   "source": [
    "list1=[1, [2, 3], [4, [5]]]\n",
    "\n",
    "#回答\n",
    "#方針：list形式の中にlist形式が含まれていればそれを開くような再帰的な関数を考える。\n",
    "\n",
    "def f(l): #関数fを以下に定義する。\n",
    "    m=[] #空のlist:mを用意し、出力型をlistとする。\n",
    "    for i in l: #引数内の要素iについて、次の処理を行う。\n",
    "        if type(i)==int: #iが整数型であれば、\n",
    "            m.append(i) #mにiを追加する。\n",
    "        elif type(i)==list: #iがlistであれば、\n",
    "            m.extend(f(i)) #mとf(i)を接合する。\n",
    "\n",
    "#挙動：\n",
    "#f(list1)のmをとくにMとしよう。\n",
    "\n",
    "#i=1のとき\n",
    "#type(i)=intなので、M.append(i)>>>M=[1]となる。\n",
    "\n",
    "#i=[2,3]のとき\n",
    "#type(i)=listなので、M.extend(f(i))が行われる。\n",
    "#f(i)=f([2,3])=[2,3]より、M.extend(f(i))>>>[1].extend[2,3]>>>M=[1,2,3]\n",
    "\n",
    "#i=[4,[5]]のとき\n",
    "#type(i)=listなので、M.extend(f(i))が行われる。\n",
    "#f(i)=f([4,[5]])である。i=1,2の挙動より、f([a,[b,c]])=[a,b,c]のようになるから、f(i)=[4,5]である。\n",
    "#したがって、M.append(f([4,[5]]))>>>[1,2,3].append([4,5])>>>M=[1,2,3,4,5]\n",
    "\n",
    "#以上から、整数型をもつlistについて、再帰的にlistを開くことができることがわかる。\n",
    "\n",
    "    return m #最終的にmを返す。\n",
    "\n",
    "print(f(list1))\n",
    "\n",
    "#追加テスト\n",
    "\n",
    "list2=[1,[2,3,[4,[5]]],[[[6]]],[[[7],8],9]]\n",
    "print(f(list2))"
   ]
  }
 ],
 "metadata": {
  "kernelspec": {
   "display_name": "Python 3",
   "language": "python",
   "name": "python3"
  },
  "language_info": {
   "codemirror_mode": {
    "name": "ipython",
    "version": 3
   },
   "file_extension": ".py",
   "mimetype": "text/x-python",
   "name": "python",
   "nbconvert_exporter": "python",
   "pygments_lexer": "ipython3",
   "version": "3.9.6"
  },
  "orig_nbformat": 4
 },
 "nbformat": 4,
 "nbformat_minor": 2
}
